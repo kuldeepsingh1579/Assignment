{
 "cells": [
  {
   "cell_type": "code",
   "execution_count": 1,
   "id": "5612283e-272d-4fb2-a5d2-25aa5af37923",
   "metadata": {},
   "outputs": [],
   "source": [
    "d={}"
   ]
  },
  {
   "cell_type": "code",
   "execution_count": 2,
   "id": "23041b4d-440a-4221-b391-08afa42f82f7",
   "metadata": {},
   "outputs": [
    {
     "data": {
      "text/plain": [
       "dict"
      ]
     },
     "execution_count": 2,
     "metadata": {},
     "output_type": "execute_result"
    }
   ],
   "source": [
    "type(d)"
   ]
  },
  {
   "cell_type": "code",
   "execution_count": 3,
   "id": "2de3c112-9a4f-417b-96e8-f2ed761585b2",
   "metadata": {},
   "outputs": [],
   "source": [
    "d1={\"name\":\"kuldeep\", \"email\":\"kc@gmail.com\",\"number\":8977645657}"
   ]
  },
  {
   "cell_type": "code",
   "execution_count": 4,
   "id": "75b233ea-de30-4334-8519-4b12496c29d1",
   "metadata": {},
   "outputs": [
    {
     "data": {
      "text/plain": [
       "{}"
      ]
     },
     "execution_count": 4,
     "metadata": {},
     "output_type": "execute_result"
    }
   ],
   "source": [
    "d"
   ]
  },
  {
   "cell_type": "code",
   "execution_count": 5,
   "id": "e1e84ddd-a007-4e75-a294-bf863bc238f9",
   "metadata": {},
   "outputs": [
    {
     "data": {
      "text/plain": [
       "{'name': 'kuldeep', 'email': 'kc@gmail.com', 'number': 8977645657}"
      ]
     },
     "execution_count": 5,
     "metadata": {},
     "output_type": "execute_result"
    }
   ],
   "source": [
    "d1"
   ]
  },
  {
   "cell_type": "code",
   "execution_count": 6,
   "id": "c515913c-715b-4eb9-a231-66702ab9eb02",
   "metadata": {},
   "outputs": [],
   "source": [
    "d3={1579 :\"pin no.\", \"@com\":\"singh\",True:1783}\n",
    "# we can't use special character as a key value "
   ]
  },
  {
   "cell_type": "code",
   "execution_count": 7,
   "id": "4b38cd4d-27a4-4dbe-89dd-fc6a40e5ff94",
   "metadata": {},
   "outputs": [
    {
     "data": {
      "text/plain": [
       "{1579: 'pin no.', '@com': 'singh', True: 1783}"
      ]
     },
     "execution_count": 7,
     "metadata": {},
     "output_type": "execute_result"
    }
   ],
   "source": [
    "d3"
   ]
  },
  {
   "cell_type": "code",
   "execution_count": 8,
   "id": "12005eb1-f74a-45e5-bfe4-23d7bc4e857b",
   "metadata": {},
   "outputs": [
    {
     "data": {
      "text/plain": [
       "1783"
      ]
     },
     "execution_count": 8,
     "metadata": {},
     "output_type": "execute_result"
    }
   ],
   "source": [
    "d3[True]"
   ]
  },
  {
   "cell_type": "code",
   "execution_count": 9,
   "id": "dc9d8827-9ce0-4925-a98c-ddfd64c6195f",
   "metadata": {},
   "outputs": [
    {
     "data": {
      "text/plain": [
       "1783"
      ]
     },
     "execution_count": 9,
     "metadata": {},
     "output_type": "execute_result"
    }
   ],
   "source": [
    "d3[1]"
   ]
  },
  {
   "cell_type": "code",
   "execution_count": 10,
   "id": "45b29eed-f202-444c-82a7-5b417cb271b3",
   "metadata": {},
   "outputs": [
    {
     "data": {
      "text/plain": [
       "'singh'"
      ]
     },
     "execution_count": 10,
     "metadata": {},
     "output_type": "execute_result"
    }
   ],
   "source": [
    "d3[\"@com\"]"
   ]
  },
  {
   "cell_type": "code",
   "execution_count": 11,
   "id": "6256da80-7358-4b99-9ed9-39f49952b602",
   "metadata": {},
   "outputs": [],
   "source": [
    "d4={'name':'kuldeep','mail.id':'kc@gmail.com','name':'karan'}"
   ]
  },
  {
   "cell_type": "code",
   "execution_count": 12,
   "id": "3690239e-f0bd-4fed-82b1-371671d923e5",
   "metadata": {},
   "outputs": [
    {
     "data": {
      "text/plain": [
       "'karan'"
      ]
     },
     "execution_count": 12,
     "metadata": {},
     "output_type": "execute_result"
    }
   ],
   "source": [
    "d4['name']\n",
    "#-- hare second name will overwrite the frist name  "
   ]
  },
  {
   "cell_type": "code",
   "execution_count": 13,
   "id": "4b717201-ae1e-4b78-831f-ad5210c3fa85",
   "metadata": {},
   "outputs": [],
   "source": [
    "d5={'company':'pwskill', 'course':['web dev','data science','java with DSA']}"
   ]
  },
  {
   "cell_type": "code",
   "execution_count": 14,
   "id": "7c1c769e-0622-4881-8333-cf669975c887",
   "metadata": {},
   "outputs": [
    {
     "data": {
      "text/plain": [
       "['web dev', 'data science', 'java with DSA']"
      ]
     },
     "execution_count": 14,
     "metadata": {},
     "output_type": "execute_result"
    }
   ],
   "source": [
    "d5['course']"
   ]
  },
  {
   "cell_type": "code",
   "execution_count": 15,
   "id": "5b1ab307-6f96-40ed-a560-426f1f2ab930",
   "metadata": {},
   "outputs": [
    {
     "data": {
      "text/plain": [
       "'java with DSA'"
      ]
     },
     "execution_count": 15,
     "metadata": {},
     "output_type": "execute_result"
    }
   ],
   "source": [
    "d5['course'][2]"
   ]
  },
  {
   "cell_type": "code",
   "execution_count": 16,
   "id": "52f66382-24b3-4385-b1cc-7ad0ca3eec1d",
   "metadata": {},
   "outputs": [],
   "source": [
    "d6={'number':[2,34,5,6,65], \n",
    "    'assignment':(1,23,34,32,455),'launch_date':{28,11,22},\n",
    "   'class_timing':{'data scince':8, 'DSA':10,'java':2}}"
   ]
  },
  {
   "cell_type": "code",
   "execution_count": 17,
   "id": "70bdfe3b-ba20-4dea-a0c8-e663a3b387b9",
   "metadata": {},
   "outputs": [
    {
     "data": {
      "text/plain": [
       "{'number': [2, 34, 5, 6, 65],\n",
       " 'assignment': (1, 23, 34, 32, 455),\n",
       " 'launch_date': {11, 22, 28},\n",
       " 'class_timing': {'data scince': 8, 'DSA': 10, 'java': 2}}"
      ]
     },
     "execution_count": 17,
     "metadata": {},
     "output_type": "execute_result"
    }
   ],
   "source": [
    "d6  #-- we can store list,tuple,sets,and dictonry unside another dictonary\n"
   ]
  },
  {
   "cell_type": "code",
   "execution_count": 18,
   "id": "9cb21ce9-af71-4e82-b250-9240b854a572",
   "metadata": {},
   "outputs": [
    {
     "data": {
      "text/plain": [
       "2"
      ]
     },
     "execution_count": 18,
     "metadata": {},
     "output_type": "execute_result"
    }
   ],
   "source": [
    "d6['class_timing']['java']"
   ]
  },
  {
   "cell_type": "code",
   "execution_count": 19,
   "id": "337e156a-6423-4302-aea7-b58d3e8d6cd4",
   "metadata": {},
   "outputs": [],
   "source": [
    "d6['mentor']=['kuldeep','piyush','raghav']"
   ]
  },
  {
   "cell_type": "code",
   "execution_count": 20,
   "id": "961e6749-205f-494f-9dc9-21cd2aa6a4c9",
   "metadata": {},
   "outputs": [
    {
     "data": {
      "text/plain": [
       "{'number': [2, 34, 5, 6, 65],\n",
       " 'assignment': (1, 23, 34, 32, 455),\n",
       " 'launch_date': {11, 22, 28},\n",
       " 'class_timing': {'data scince': 8, 'DSA': 10, 'java': 2},\n",
       " 'mentor': ['kuldeep', 'piyush', 'raghav']}"
      ]
     },
     "execution_count": 20,
     "metadata": {},
     "output_type": "execute_result"
    }
   ],
   "source": [
    "d6"
   ]
  },
  {
   "cell_type": "code",
   "execution_count": 21,
   "id": "bfa9c221-6eb3-4a80-a9f4-9555de25c284",
   "metadata": {},
   "outputs": [],
   "source": [
    "del d6['number']"
   ]
  },
  {
   "cell_type": "code",
   "execution_count": 22,
   "id": "b64843cb-5419-4083-8a87-6042fff45b23",
   "metadata": {},
   "outputs": [
    {
     "data": {
      "text/plain": [
       "{'assignment': (1, 23, 34, 32, 455),\n",
       " 'launch_date': {11, 22, 28},\n",
       " 'class_timing': {'data scince': 8, 'DSA': 10, 'java': 2},\n",
       " 'mentor': ['kuldeep', 'piyush', 'raghav']}"
      ]
     },
     "execution_count": 22,
     "metadata": {},
     "output_type": "execute_result"
    }
   ],
   "source": [
    "d6"
   ]
  },
  {
   "cell_type": "code",
   "execution_count": 23,
   "id": "dd08c01a-9561-451a-9c27-8ac586af704a",
   "metadata": {},
   "outputs": [
    {
     "data": {
      "text/plain": [
       "('assignment', 'launch_date', 'class_timing', 'mentor')"
      ]
     },
     "execution_count": 23,
     "metadata": {},
     "output_type": "execute_result"
    }
   ],
   "source": [
    "tuple(d6.keys())\n",
    "#-- this finction will provide the set of all keys present in the dictonary in the form of list"
   ]
  },
  {
   "cell_type": "code",
   "execution_count": 24,
   "id": "f7a8a734-c1e3-4160-ad4d-3f43c526ff79",
   "metadata": {},
   "outputs": [
    {
     "data": {
      "text/plain": [
       "[(1, 23, 34, 32, 455),\n",
       " {11, 22, 28},\n",
       " {'data scince': 8, 'DSA': 10, 'java': 2},\n",
       " ['kuldeep', 'piyush', 'raghav']]"
      ]
     },
     "execution_count": 24,
     "metadata": {},
     "output_type": "execute_result"
    }
   ],
   "source": [
    "list(d6.values())"
   ]
  },
  {
   "cell_type": "code",
   "execution_count": 25,
   "id": "dfa4fc79-6c89-42dd-8bae-36878050f339",
   "metadata": {},
   "outputs": [
    {
     "data": {
      "text/plain": [
       "[('assignment', (1, 23, 34, 32, 455)),\n",
       " ('launch_date', {11, 22, 28}),\n",
       " ('class_timing', {'data scince': 8, 'DSA': 10, 'java': 2}),\n",
       " ('mentor', ['kuldeep', 'piyush', 'raghav'])]"
      ]
     },
     "execution_count": 25,
     "metadata": {},
     "output_type": "execute_result"
    }
   ],
   "source": [
    "list(d6.items())"
   ]
  },
  {
   "cell_type": "code",
   "execution_count": 26,
   "id": "45f5e94b-7da6-4a5c-b37a-6a454f04dd96",
   "metadata": {},
   "outputs": [
    {
     "data": {
      "text/plain": [
       "(1, 23, 34, 32, 455)"
      ]
     },
     "execution_count": 26,
     "metadata": {},
     "output_type": "execute_result"
    }
   ],
   "source": [
    "d6.pop('assignment')"
   ]
  },
  {
   "cell_type": "code",
   "execution_count": 27,
   "id": "71d94ad6-6f38-4493-b67c-05eff5f8594e",
   "metadata": {},
   "outputs": [
    {
     "data": {
      "text/plain": [
       "{'launch_date': {11, 22, 28},\n",
       " 'class_timing': {'data scince': 8, 'DSA': 10, 'java': 2},\n",
       " 'mentor': ['kuldeep', 'piyush', 'raghav']}"
      ]
     },
     "execution_count": 27,
     "metadata": {},
     "output_type": "execute_result"
    }
   ],
   "source": [
    "d6"
   ]
  },
  {
   "cell_type": "code",
   "execution_count": 28,
   "id": "acea2044-6280-435e-80d5-854e96d526b4",
   "metadata": {},
   "outputs": [],
   "source": [
    "##-----------conditional statement--------"
   ]
  },
  {
   "cell_type": "code",
   "execution_count": 29,
   "id": "dd79139f-dcb6-4d2f-b180-5936542b7445",
   "metadata": {},
   "outputs": [
    {
     "name": "stdin",
     "output_type": "stream",
     "text": [
      "enter your marks 78\n"
     ]
    },
    {
     "name": "stdout",
     "output_type": "stream",
     "text": [
      "you will be part of A1 batch\n"
     ]
    }
   ],
   "source": [
    "marks=int(input('enter your marks'))\n",
    "if marks >= 80:\n",
    "    print('you will part of A* batch')\n",
    "elif marks >=60 and marks < 80:\n",
    "    print('you will be part of A1 batch')\n",
    "elif marks>=40 and marks <60:\n",
    "    print('you will be part of A2 batch')\n",
    "else:\n",
    "    print('you will be part of A3 batch')\n",
    "    "
   ]
  },
  {
   "cell_type": "code",
   "execution_count": 30,
   "id": "acb098ae-6e84-4f04-9a53-8ef2030ba0ad",
   "metadata": {},
   "outputs": [
    {
     "name": "stdin",
     "output_type": "stream",
     "text": [
      "enter the price 98\n"
     ]
    },
    {
     "name": "stdout",
     "output_type": "stream",
     "text": [
      "i will purchase\n"
     ]
    }
   ],
   "source": [
    "price=int(input('enter the price'))\n",
    "if price >1000:\n",
    "    print('i will not purchase')\n",
    "else:\n",
    "    print('i will purchase')"
   ]
  },
  {
   "cell_type": "code",
   "execution_count": 31,
   "id": "f6a7a138-eee4-4363-a861-43bc8720b383",
   "metadata": {},
   "outputs": [
    {
     "name": "stdin",
     "output_type": "stream",
     "text": [
      "enter the price 7889\n"
     ]
    },
    {
     "name": "stdout",
     "output_type": "stream",
     "text": [
      "i will not purchase\n",
      "the price is too high\n"
     ]
    }
   ],
   "source": [
    "price=int(input('enter the price'))\n",
    "if price >1000:\n",
    "    print('i will not purchase')\n",
    "if price >500:\n",
    "    print('the price is too high')"
   ]
  },
  {
   "cell_type": "code",
   "execution_count": 32,
   "id": "5c29daa2-7d19-4181-a5ce-b4a9ffc49ccf",
   "metadata": {},
   "outputs": [],
   "source": [
    "#--------loops--------"
   ]
  },
  {
   "cell_type": "code",
   "execution_count": 33,
   "id": "8fe85cad-78cc-4992-9bf3-5ab581399f81",
   "metadata": {},
   "outputs": [],
   "source": [
    "l=[1,2,3,4,5,6,7,8,9]"
   ]
  },
  {
   "cell_type": "code",
   "execution_count": 36,
   "id": "5cd3266a-6186-4844-aa77-46fba5e4a165",
   "metadata": {},
   "outputs": [
    {
     "name": "stdout",
     "output_type": "stream",
     "text": [
      "2\n",
      "3\n",
      "4\n",
      "5\n",
      "6\n",
      "7\n",
      "8\n",
      "9\n",
      "10\n"
     ]
    },
    {
     "data": {
      "text/plain": [
       "[2, 3, 4, 5, 6, 7, 8, 9, 10]"
      ]
     },
     "execution_count": 36,
     "metadata": {},
     "output_type": "execute_result"
    }
   ],
   "source": [
    "l1=[]\n",
    "for i in l:\n",
    "    print(i+1)\n",
    "    l1.append(i+1)\n",
    "l1    "
   ]
  },
  {
   "cell_type": "code",
   "execution_count": 37,
   "id": "63303dc3-02ed-4abd-84ca-8723b6405c45",
   "metadata": {},
   "outputs": [
    {
     "data": {
      "text/plain": [
       "[1, 2, 3, 4, 5, 6, 7, 8, 9]"
      ]
     },
     "execution_count": 37,
     "metadata": {},
     "output_type": "execute_result"
    }
   ],
   "source": [
    "l"
   ]
  },
  {
   "cell_type": "code",
   "execution_count": 38,
   "id": "4040cc91-6e02-4e68-b5e6-4bdcafb4b75a",
   "metadata": {},
   "outputs": [
    {
     "data": {
      "text/plain": [
       "[2, 3, 4, 5, 6, 7, 8, 9, 10]"
      ]
     },
     "execution_count": 38,
     "metadata": {},
     "output_type": "execute_result"
    }
   ],
   "source": [
    "l1"
   ]
  },
  {
   "cell_type": "code",
   "execution_count": 39,
   "id": "fe8c5d3e-e624-4486-85d4-35bf8ac1f678",
   "metadata": {},
   "outputs": [],
   "source": [
    "l3=['kuldeep','singh','chauhan','pwskills']"
   ]
  },
  {
   "cell_type": "code",
   "execution_count": 44,
   "id": "f82c28cb-f0af-486c-9f08-04ecb5c6b4e3",
   "metadata": {},
   "outputs": [
    {
     "name": "stdout",
     "output_type": "stream",
     "text": [
      "kuldeep\n",
      "singh\n",
      "chauhan\n",
      "pwskills\n"
     ]
    },
    {
     "data": {
      "text/plain": [
       "['KULDEEP', 'SINGH', 'CHAUHAN', 'PWSKILLS']"
      ]
     },
     "execution_count": 44,
     "metadata": {},
     "output_type": "execute_result"
    }
   ],
   "source": [
    "l4=[]\n",
    "for j in l3:\n",
    "    print(j)\n",
    "    l4.append(j.upper())\n",
    "l4    "
   ]
  },
  {
   "cell_type": "code",
   "execution_count": 45,
   "id": "2bc3d9fa-a17c-4e4c-98d0-c400642bf989",
   "metadata": {},
   "outputs": [
    {
     "data": {
      "text/plain": [
       "['kuldeep', 'singh', 'chauhan', 'pwskills']"
      ]
     },
     "execution_count": 45,
     "metadata": {},
     "output_type": "execute_result"
    }
   ],
   "source": [
    "l3"
   ]
  },
  {
   "cell_type": "code",
   "execution_count": 46,
   "id": "074fca83-d973-49f2-a045-0bff1721633b",
   "metadata": {},
   "outputs": [
    {
     "data": {
      "text/plain": [
       "['KULDEEP', 'SINGH', 'CHAUHAN', 'PWSKILLS']"
      ]
     },
     "execution_count": 46,
     "metadata": {},
     "output_type": "execute_result"
    }
   ],
   "source": [
    "l4"
   ]
  },
  {
   "cell_type": "code",
   "execution_count": 4,
   "id": "216c08b2-d0e0-4e78-94ab-e6e7ab68175a",
   "metadata": {},
   "outputs": [],
   "source": [
    "l=[1,3,4,5,6,'pwskills','karan',54.6,'chutiya']"
   ]
  },
  {
   "cell_type": "code",
   "execution_count": 5,
   "id": "03aa343b-827d-4acf-96b6-02a843fd41c1",
   "metadata": {},
   "outputs": [],
   "source": [
    "l1_num=[]\n",
    "l2_str=[]\n",
    "for i in l:\n",
    "    if type(i)==int or type(i)==float:\n",
    "        l1_num.append(i)\n",
    "    else:\n",
    "        l2_str.append(i)"
   ]
  },
  {
   "cell_type": "code",
   "execution_count": 6,
   "id": "8fad6469-3f19-4efe-b079-197c3a7c376a",
   "metadata": {},
   "outputs": [
    {
     "data": {
      "text/plain": [
       "['pwskills', 'karan', 'chutiya']"
      ]
     },
     "execution_count": 6,
     "metadata": {},
     "output_type": "execute_result"
    }
   ],
   "source": [
    "l2_str\n"
   ]
  },
  {
   "cell_type": "code",
   "execution_count": 7,
   "id": "1b0d9826-fdd5-4fb0-a7a5-881740f2a7b6",
   "metadata": {},
   "outputs": [
    {
     "data": {
      "text/plain": [
       "[1, 3, 4, 5, 6, 54.6]"
      ]
     },
     "execution_count": 7,
     "metadata": {},
     "output_type": "execute_result"
    }
   ],
   "source": [
    "l1_num"
   ]
  },
  {
   "cell_type": "code",
   "execution_count": 8,
   "id": "23f6dcff-f144-4365-b539-d82fca90d566",
   "metadata": {},
   "outputs": [],
   "source": [
    "l=['karan','chauhan','iimt','noida']"
   ]
  },
  {
   "cell_type": "code",
   "execution_count": 16,
   "id": "e481871e-0179-4d8c-9203-d82533619f07",
   "metadata": {},
   "outputs": [
    {
     "data": {
      "text/plain": [
       "['KARAN', 'CHAUHAN', 'IIMT', 'NOIDA']"
      ]
     },
     "execution_count": 16,
     "metadata": {},
     "output_type": "execute_result"
    }
   ],
   "source": [
    "l1=[]\n",
    "for i in l:\n",
    "    #print(i)\n",
    "    l1.append(i.upper())\n",
    "l1    "
   ]
  },
  {
   "cell_type": "code",
   "execution_count": null,
   "id": "01d7cf8c-c451-4fd3-984c-0c83c770535f",
   "metadata": {},
   "outputs": [],
   "source": []
  }
 ],
 "metadata": {
  "kernelspec": {
   "display_name": "Python 3 (ipykernel)",
   "language": "python",
   "name": "python3"
  },
  "language_info": {
   "codemirror_mode": {
    "name": "ipython",
    "version": 3
   },
   "file_extension": ".py",
   "mimetype": "text/x-python",
   "name": "python",
   "nbconvert_exporter": "python",
   "pygments_lexer": "ipython3",
   "version": "3.10.8"
  }
 },
 "nbformat": 4,
 "nbformat_minor": 5
}
